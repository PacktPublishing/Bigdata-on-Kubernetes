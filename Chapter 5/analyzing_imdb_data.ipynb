{
 "cells": [
  {
   "cell_type": "markdown",
   "id": "34a0e91d-e6a4-4aed-beb8-2abb0b3af672",
   "metadata": {},
   "source": [
    "# Getting Started with Spark\n",
    "\n",
    "### Analyzing IMDB Data\n",
    "\n",
    "Public data available at https://datasets.imdbws.com.\n",
    "\n",
    "First, we setup the SparkSession."
   ]
  },
  {
   "cell_type": "code",
   "execution_count": 1,
   "id": "b289831b-effd-4558-9f0f-d549d5ddd1d7",
   "metadata": {
    "tags": []
   },
   "outputs": [
    {
     "name": "stderr",
     "output_type": "stream",
     "text": [
      "Setting default log level to \"WARN\".\n",
      "To adjust logging level use sc.setLogLevel(newLevel). For SparkR, use setLogLevel(newLevel).\n",
      "24/02/02 12:36:06 WARN NativeCodeLoader: Unable to load native-hadoop library for your platform... using builtin-java classes where applicable\n"
     ]
    }
   ],
   "source": [
    "from pyspark.sql import SparkSession\n",
    "from pyspark.sql import functions as f\n",
    "\n",
    "spark = SparkSession.builder.appName(\"IMDBData\").getOrCreate()\n",
    "\n",
    "# set log level to ERROR so we don't have many outputs\n",
    "spark.sparkContext.setLogLevel(\"ERROR\")"
   ]
  },
  {
   "cell_type": "markdown",
   "id": "41be9558-28d0-4081-9748-170bac422991",
   "metadata": {},
   "source": [
    "Then, we define the schema for the tables. This improves Spark's performance A LOT!"
   ]
  },
  {
   "cell_type": "code",
   "execution_count": 2,
   "id": "d58d5a1d-257b-49dc-b228-4e4083caf865",
   "metadata": {
    "tags": []
   },
   "outputs": [],
   "source": [
    "schema_names = \"nconst string, primaryName string, birthYear int, deathYear int, primaryProfession string, knownForTitles string\"\n",
    "schema_basics = \"\"\"\n",
    "tconst string, titleType string, primaryTitle string, originalTitle string, isAdult int, startYear int, endYear int,\n",
    "runtimeMinutes double, genres string\n",
    "\"\"\"\n",
    "schema_crew = \"tconst string, directors string, writers string\"\n",
    "schema_principals = \"tconst string, ordering int, nconst string, category string, job string, characters string\"\n",
    "schema_ratings = \"tconst string, averageRating double, numVotes int\""
   ]
  },
  {
   "cell_type": "markdown",
   "id": "425fa20c-1a4c-4a73-8ff1-bddc7b8c6573",
   "metadata": {},
   "source": [
    "Reading the tables."
   ]
  },
  {
   "cell_type": "code",
   "execution_count": 15,
   "id": "1c67e7d9-c0f4-48b7-a956-07a6749a540d",
   "metadata": {
    "tags": []
   },
   "outputs": [],
   "source": [
    "names = (\n",
    "    spark\n",
    "    .read\n",
    "    .schema(schema_names)\n",
    "    .options(header=True, delimiter=\"\\t\")\n",
    "    .csv('data/imdb/names.tsv.gz')\n",
    ")\n",
    "\n",
    "basics = (\n",
    "    spark\n",
    "    .read\n",
    "    .schema(schema_basics)\n",
    "    .options(header=True, inferSchema=True, delimiter=\"\\t\")\n",
    "    .csv('data/imdb/basics.tsv.gz')\n",
    ")\n",
    "\n",
    "crew = (\n",
    "    spark\n",
    "    .read\n",
    "    .schema(schema_crew)\n",
    "    .options(header=True, inferSchema=True, delimiter=\"\\t\")\n",
    "    .csv('data/imdb/crew.tsv.gz')\n",
    ")\n",
    "\n",
    "principals = (\n",
    "    spark\n",
    "    .read\n",
    "    .schema(schema_principals)\n",
    "    .options(header=True, inferSchema=True, delimiter=\"\\t\")\n",
    "    .csv('data/imdb/principals.tsv.gz')\n",
    ")\n",
    "\n",
    "ratings = (\n",
    "    spark\n",
    "    .read\n",
    "    .schema(schema_ratings)\n",
    "    .options(header=True, inferSchema=True, delimiter=\"\\t\")\n",
    "    .csv('data/imdb/ratings.tsv.gz')\n",
    ")"
   ]
  },
  {
   "cell_type": "markdown",
   "id": "e70e93c8-cac0-43b0-9b0a-68b29d28f69b",
   "metadata": {},
   "source": [
    "Now, we check if the schemas were correctly handled."
   ]
  },
  {
   "cell_type": "code",
   "execution_count": 4,
   "id": "ff562969-41b1-4f99-a119-c76e2a5f4c8b",
   "metadata": {
    "tags": []
   },
   "outputs": [
    {
     "name": "stdout",
     "output_type": "stream",
     "text": [
      "NAMES Schema\n",
      "root\n",
      " |-- nconst: string (nullable = true)\n",
      " |-- primaryName: string (nullable = true)\n",
      " |-- birthYear: integer (nullable = true)\n",
      " |-- deathYear: integer (nullable = true)\n",
      " |-- primaryProfession: string (nullable = true)\n",
      " |-- knownForTitles: string (nullable = true)\n",
      "\n",
      "BASICS Schema\n",
      "root\n",
      " |-- tconst: string (nullable = true)\n",
      " |-- titleType: string (nullable = true)\n",
      " |-- primaryTitle: string (nullable = true)\n",
      " |-- originalTitle: string (nullable = true)\n",
      " |-- isAdult: integer (nullable = true)\n",
      " |-- startYear: integer (nullable = true)\n",
      " |-- endYear: integer (nullable = true)\n",
      " |-- runtimeMinutes: double (nullable = true)\n",
      " |-- genres: string (nullable = true)\n",
      "\n",
      "CREW Schema\n",
      "root\n",
      " |-- tconst: string (nullable = true)\n",
      " |-- directors: string (nullable = true)\n",
      " |-- writers: string (nullable = true)\n",
      "\n",
      "PRINCIPALS Schema\n",
      "root\n",
      " |-- tconst: string (nullable = true)\n",
      " |-- ordering: integer (nullable = true)\n",
      " |-- nconst: string (nullable = true)\n",
      " |-- category: string (nullable = true)\n",
      " |-- job: string (nullable = true)\n",
      " |-- characters: string (nullable = true)\n",
      "\n",
      "RATINGS Schema\n",
      "root\n",
      " |-- tconst: string (nullable = true)\n",
      " |-- averageRating: double (nullable = true)\n",
      " |-- numVotes: integer (nullable = true)\n",
      "\n"
     ]
    }
   ],
   "source": [
    "print(\"NAMES Schema\")\n",
    "names.printSchema()\n",
    "print(\"BASICS Schema\")\n",
    "basics.printSchema()\n",
    "print(\"CREW Schema\")\n",
    "crew.printSchema()\n",
    "print(\"PRINCIPALS Schema\")\n",
    "principals.printSchema()\n",
    "print(\"RATINGS Schema\")\n",
    "ratings.printSchema()"
   ]
  },
  {
   "cell_type": "markdown",
   "id": "64c8c572-cac6-4926-992f-17e8fe27d73d",
   "metadata": {},
   "source": [
    "We take a look at the `names` table and filter for people with the name **Keanu** who are **actors**."
   ]
  },
  {
   "cell_type": "code",
   "execution_count": 16,
   "id": "85407574-0e61-45f0-a50e-68ddd024646a",
   "metadata": {
    "tags": []
   },
   "outputs": [
    {
     "name": "stderr",
     "output_type": "stream",
     "text": [
      "[Stage 15:>                                                         (0 + 1) / 1]\r"
     ]
    },
    {
     "name": "stdout",
     "output_type": "stream",
     "text": [
      "+----------+---------------+---------+---------+--------------------+--------------------+\n",
      "|    nconst|    primaryName|birthYear|deathYear|   primaryProfession|      knownForTitles|\n",
      "+----------+---------------+---------+---------+--------------------+--------------------+\n",
      "| nm0000206|   Keanu Reeves|     1964|     null|actor,producer,so...|tt0102685,tt02342...|\n",
      "|nm10158822|    Keanu Anoai|     null|     null|               actor|           tt8174116|\n",
      "|nm10263947|  Keanu Yamaoka|     null|     null|               actor|           tt9287504|\n",
      "|nm10456419|    Keanu Parks|     null|     null|               actor|           tt3208026|\n",
      "|nm10515123|     Keanu Blye|     null|     null|producer,actor,wr...|tt23133930,tt2240...|\n",
      "|nm10670161|    Keanu Kulin|     null|     null|               actor|           tt9483838|\n",
      "|nm10806151|   Keanu Peyran|     null|     null|               actor|tt14250484,tt1600...|\n",
      "|nm10823300|          Keanu|     null|     null|               actor|                  \\N|\n",
      "|nm10886062|   Keanu Bastos|     null|     null|               actor|          tt10739668|\n",
      "|nm11216609| Keanu Kanehiwa|     null|     null|               actor|          tt11473684|\n",
      "|nm11281899|    Keanu Burke|     null|     null|               actor|          tt11600744|\n",
      "|nm11310917|          Keanu|     null|     null|               actor|          tt10098494|\n",
      "|nm11317899|   Keanu Hughes|     null|     null|actor,assistant_d...|tt8938524,tt26547334|\n",
      "|nm11411746|   Keanu-Ray Ho|     null|     null|               actor|                  \\N|\n",
      "|nm11474772| Keanu Bertrand|     null|     null|               actor|          tt19885072|\n",
      "|nm11640694|  Keanu Campora|     null|     null|               actor|tt18250254,tt1509...|\n",
      "|nm11693160|     Keanu Rain|     null|     null|               actor|           tt4068576|\n",
      "|nm11845759|          Keanu|     null|     null|               actor|          tt12867124|\n",
      "|nm12013675|Keanu Kalynchuk|     null|     null|               actor|          tt13349138|\n",
      "|nm12073153|   Keanu Karlus|     null|     null|               actor|           tt4944352|\n",
      "+----------+---------------+---------+---------+--------------------+--------------------+\n",
      "only showing top 20 rows\n",
      "\n"
     ]
    },
    {
     "name": "stderr",
     "output_type": "stream",
     "text": [
      "                                                                                \r"
     ]
    }
   ],
   "source": [
    "names.filter(\"primaryName LIKE 'Keanu%' AND primaryProfession LIKE '%actor%'\").show()"
   ]
  },
  {
   "cell_type": "markdown",
   "id": "33e16c70-6f41-499f-b584-ba22569080dd",
   "metadata": {},
   "source": [
    "We can see the column `knowForTitles` is an array. We should work on that if we want to join this table with the titles' `basics` table."
   ]
  },
  {
   "cell_type": "code",
   "execution_count": 17,
   "id": "e1899364-ead4-4399-8c10-93e0f5b4937f",
   "metadata": {
    "tags": []
   },
   "outputs": [],
   "source": [
    "names = names.select(\n",
    "    'nconst', 'primaryName', 'birthYear', 'deathYear', \n",
    "    f.explode(f.split('knownForTitles', ',')).alias('knownForTitles')\n",
    ")"
   ]
  },
  {
   "cell_type": "markdown",
   "id": "8ebe0ac7-35d4-4304-8503-20f681503508",
   "metadata": {},
   "source": [
    "We need to do exactly the same with the `directors` columns of the `crew` table."
   ]
  },
  {
   "cell_type": "code",
   "execution_count": 19,
   "id": "c60c62a6-d674-4d8c-900b-7116e333b5e9",
   "metadata": {
    "tags": []
   },
   "outputs": [
    {
     "name": "stdout",
     "output_type": "stream",
     "text": [
      "+---------+--------------------+-------------------+\n",
      "|   tconst|           directors|            writers|\n",
      "+---------+--------------------+-------------------+\n",
      "|tt0000007| nm0005690,nm0374658|                 \\N|\n",
      "|tt0000012| nm0525908,nm0525910|                 \\N|\n",
      "|tt0000017| nm1587194,nm0804434|                 \\N|\n",
      "|tt0000030| nm0010291,nm0666972|                 \\N|\n",
      "|tt0000089| nm0525908,nm0698645|                 \\N|\n",
      "|tt0000093| nm0525908,nm0525910|                 \\N|\n",
      "|tt0000247|nm2156608,nm00056...|nm0000636,nm0002504|\n",
      "|tt0000287| nm0085865,nm0807236|                 \\N|\n",
      "|tt0000335| nm0095714,nm0675140|                 \\N|\n",
      "|tt0000380| nm0634629,nm0954087|          nm0674518|\n",
      "|tt0000387| nm0617588,nm0881616|                 \\N|\n",
      "|tt0000399| nm2092030,nm0692105|                 \\N|\n",
      "|tt0000420| nm0832948,nm0378408|nm0140902,nm0378408|\n",
      "|tt0000436| nm0095816,nm0666972|                 \\N|\n",
      "|tt0000447| nm2092030,nm0692105|          nm0692105|\n",
      "|tt0000498| nm0280432,nm0378408|          nm1539443|\n",
      "|tt0000505| nm1563072,nm0381874|          nm0381874|\n",
      "|tt0000511| nm0349785,nm0419327|          nm0401076|\n",
      "|tt0000536| nm6758605,nm0582268|                 \\N|\n",
      "|tt0000546| nm0567363,nm0692105|          nm0565560|\n",
      "+---------+--------------------+-------------------+\n",
      "only showing top 20 rows\n",
      "\n"
     ]
    }
   ],
   "source": [
    "crew.filter(\"directors LIKE '%,%'\").show()"
   ]
  },
  {
   "cell_type": "code",
   "execution_count": 7,
   "id": "25abe415-5360-4baf-9281-ef6149e4679f",
   "metadata": {
    "tags": []
   },
   "outputs": [],
   "source": [
    "crew = crew.select(\n",
    "    'tconst', f.explode(f.split('directors', ',')).alias('directors'), 'writers'\n",
    ")"
   ]
  },
  {
   "cell_type": "markdown",
   "id": "cfe1f6a9-c9dc-45bc-ba82-4e05d5cf5e00",
   "metadata": {},
   "source": [
    "Now, let's try to visualize all the movies with Keanu Reeves."
   ]
  },
  {
   "cell_type": "code",
   "execution_count": 20,
   "id": "e6518932-ef3a-46d2-805b-1171262cf186",
   "metadata": {
    "tags": []
   },
   "outputs": [
    {
     "name": "stderr",
     "output_type": "stream",
     "text": [
      "[Stage 18:>                                                         (0 + 1) / 1]\r"
     ]
    },
    {
     "name": "stdout",
     "output_type": "stream",
     "text": [
      "+---------+------------+---------+---------+--------------+\n",
      "|   nconst| primaryName|birthYear|deathYear|knownForTitles|\n",
      "+---------+------------+---------+---------+--------------+\n",
      "|nm0000206|Keanu Reeves|     1964|     null|     tt0102685|\n",
      "|nm0000206|Keanu Reeves|     1964|     null|     tt0234215|\n",
      "|nm0000206|Keanu Reeves|     1964|     null|     tt0133093|\n",
      "|nm0000206|Keanu Reeves|     1964|     null|     tt0111257|\n",
      "+---------+------------+---------+---------+--------------+\n",
      "\n"
     ]
    },
    {
     "name": "stderr",
     "output_type": "stream",
     "text": [
      "                                                                                \r"
     ]
    }
   ],
   "source": [
    "only_keanu = names.filter(\"primaryName = 'Keanu Reeves'\")\n",
    "only_keanu.show()"
   ]
  },
  {
   "cell_type": "code",
   "execution_count": 23,
   "id": "c582d9e5-2753-4b3b-a4ed-a9ccda72a035",
   "metadata": {
    "tags": []
   },
   "outputs": [],
   "source": [
    "keanus_movies = (\n",
    "    basics.select('tconst', 'primaryTitle', 'startYear')\n",
    "    .join(\n",
    "        only_keanu.select('primaryName', 'knownForTitles'), \n",
    "        basics.tconst == names.knownForTitles, how='inner'\n",
    "    )\n",
    ")"
   ]
  },
  {
   "cell_type": "code",
   "execution_count": 24,
   "id": "9f2a905b-6636-466c-8400-cef3ed3d57ec",
   "metadata": {
    "tags": []
   },
   "outputs": [
    {
     "name": "stdout",
     "output_type": "stream",
     "text": [
      "== Physical Plan ==\n",
      "AdaptiveSparkPlan (11)\n",
      "+- SortMergeJoin Inner (10)\n",
      "   :- Sort (4)\n",
      "   :  +- Exchange (3)\n",
      "   :     +- Filter (2)\n",
      "   :        +- Scan csv  (1)\n",
      "   +- Sort (9)\n",
      "      +- Exchange (8)\n",
      "         +- Generate (7)\n",
      "            +- Filter (6)\n",
      "               +- Scan csv  (5)\n",
      "\n",
      "\n",
      "(1) Scan csv \n",
      "Output [3]: [tconst#274, primaryTitle#276, startYear#279]\n",
      "Batched: false\n",
      "Location: InMemoryFileIndex [file:/Users/neylsoncrepalde/Bigdata-on-Kubernetes/Chapter 5/data/imdb/basics.tsv.gz]\n",
      "PushedFilters: [IsNotNull(tconst)]\n",
      "ReadSchema: struct<tconst:string,primaryTitle:string,startYear:int>\n",
      "\n",
      "(2) Filter\n",
      "Input [3]: [tconst#274, primaryTitle#276, startYear#279]\n",
      "Condition : isnotnull(tconst#274)\n",
      "\n",
      "(3) Exchange\n",
      "Input [3]: [tconst#274, primaryTitle#276, startYear#279]\n",
      "Arguments: hashpartitioning(tconst#274, 200), ENSURE_REQUIREMENTS, [plan_id=374]\n",
      "\n",
      "(4) Sort\n",
      "Input [3]: [tconst#274, primaryTitle#276, startYear#279]\n",
      "Arguments: [tconst#274 ASC NULLS FIRST], false, 0\n",
      "\n",
      "(5) Scan csv \n",
      "Output [2]: [primaryName#263, knownForTitles#267]\n",
      "Batched: false\n",
      "Location: InMemoryFileIndex [file:/Users/neylsoncrepalde/Bigdata-on-Kubernetes/Chapter 5/data/imdb/names.tsv.gz]\n",
      "PushedFilters: [IsNotNull(primaryName), EqualTo(primaryName,Keanu Reeves)]\n",
      "ReadSchema: struct<primaryName:string,knownForTitles:string>\n",
      "\n",
      "(6) Filter\n",
      "Input [2]: [primaryName#263, knownForTitles#267]\n",
      "Condition : (isnotnull(primaryName#263) AND (primaryName#263 = Keanu Reeves))\n",
      "\n",
      "(7) Generate\n",
      "Input [2]: [primaryName#263, knownForTitles#267]\n",
      "Arguments: explode(split(knownForTitles#267, ,, -1)), [primaryName#263], false, [knownForTitles#349]\n",
      "\n",
      "(8) Exchange\n",
      "Input [2]: [primaryName#263, knownForTitles#349]\n",
      "Arguments: hashpartitioning(knownForTitles#349, 200), ENSURE_REQUIREMENTS, [plan_id=375]\n",
      "\n",
      "(9) Sort\n",
      "Input [2]: [primaryName#263, knownForTitles#349]\n",
      "Arguments: [knownForTitles#349 ASC NULLS FIRST], false, 0\n",
      "\n",
      "(10) SortMergeJoin\n",
      "Left keys [1]: [tconst#274]\n",
      "Right keys [1]: [knownForTitles#349]\n",
      "Join type: Inner\n",
      "Join condition: None\n",
      "\n",
      "(11) AdaptiveSparkPlan\n",
      "Output [5]: [tconst#274, primaryTitle#276, startYear#279, primaryName#263, knownForTitles#349]\n",
      "Arguments: isFinalPlan=false\n",
      "\n",
      "\n"
     ]
    }
   ],
   "source": [
    "keanus_movies.explain('formatted')"
   ]
  },
  {
   "cell_type": "code",
   "execution_count": 25,
   "id": "af3671c7-cdfd-4753-8076-3cd247938fce",
   "metadata": {
    "tags": []
   },
   "outputs": [
    {
     "name": "stderr",
     "output_type": "stream",
     "text": [
      "                                                                                \r"
     ]
    },
    {
     "name": "stdout",
     "output_type": "stream",
     "text": [
      "+---------+-------------------+---------+------------+--------------+\n",
      "|   tconst|       primaryTitle|startYear| primaryName|knownForTitles|\n",
      "+---------+-------------------+---------+------------+--------------+\n",
      "|tt0111257|              Speed|     1994|Keanu Reeves|     tt0111257|\n",
      "|tt0234215|The Matrix Reloaded|     2003|Keanu Reeves|     tt0234215|\n",
      "|tt0102685|        Point Break|     1991|Keanu Reeves|     tt0102685|\n",
      "|tt0133093|         The Matrix|     1999|Keanu Reeves|     tt0133093|\n",
      "+---------+-------------------+---------+------------+--------------+\n",
      "\n"
     ]
    }
   ],
   "source": [
    "keanus_movies.show()"
   ]
  },
  {
   "cell_type": "markdown",
   "id": "a14a2bdf-8c75-4db2-b7fe-4f441855b1fd",
   "metadata": {},
   "source": [
    "See that we made a Shuffle Merge Join. Now, let's try to minimize the processing time reducing the first table to only Keanu Reeves and trying a Broadcast Join."
   ]
  },
  {
   "cell_type": "code",
   "execution_count": 26,
   "id": "d8fa0b8d-92cb-4d2d-8030-588c5196efbc",
   "metadata": {
    "tags": []
   },
   "outputs": [],
   "source": [
    "keanus_movies2 = (\n",
    "    basics.select(\n",
    "        'tconst', 'primaryTitle', 'startYear'\n",
    "    ).join(\n",
    "        f.broadcast(only_keanu), \n",
    "        basics.tconst == names.knownForTitles, how='inner'\n",
    "    )\n",
    ")"
   ]
  },
  {
   "cell_type": "code",
   "execution_count": 27,
   "id": "a234b402-f58f-493b-9743-41bab46b77cd",
   "metadata": {
    "tags": []
   },
   "outputs": [
    {
     "name": "stdout",
     "output_type": "stream",
     "text": [
      "== Physical Plan ==\n",
      "AdaptiveSparkPlan (8)\n",
      "+- BroadcastHashJoin Inner BuildRight (7)\n",
      "   :- Filter (2)\n",
      "   :  +- Scan csv  (1)\n",
      "   +- BroadcastExchange (6)\n",
      "      +- Generate (5)\n",
      "         +- Filter (4)\n",
      "            +- Scan csv  (3)\n",
      "\n",
      "\n",
      "(1) Scan csv \n",
      "Output [3]: [tconst#274, primaryTitle#276, startYear#279]\n",
      "Batched: false\n",
      "Location: InMemoryFileIndex [file:/Users/neylsoncrepalde/Bigdata-on-Kubernetes/Chapter 5/data/imdb/basics.tsv.gz]\n",
      "PushedFilters: [IsNotNull(tconst)]\n",
      "ReadSchema: struct<tconst:string,primaryTitle:string,startYear:int>\n",
      "\n",
      "(2) Filter\n",
      "Input [3]: [tconst#274, primaryTitle#276, startYear#279]\n",
      "Condition : isnotnull(tconst#274)\n",
      "\n",
      "(3) Scan csv \n",
      "Output [5]: [nconst#262, primaryName#263, birthYear#264, deathYear#265, knownForTitles#267]\n",
      "Batched: false\n",
      "Location: InMemoryFileIndex [file:/Users/neylsoncrepalde/Bigdata-on-Kubernetes/Chapter 5/data/imdb/names.tsv.gz]\n",
      "PushedFilters: [IsNotNull(primaryName), EqualTo(primaryName,Keanu Reeves)]\n",
      "ReadSchema: struct<nconst:string,primaryName:string,birthYear:int,deathYear:int,knownForTitles:string>\n",
      "\n",
      "(4) Filter\n",
      "Input [5]: [nconst#262, primaryName#263, birthYear#264, deathYear#265, knownForTitles#267]\n",
      "Condition : (isnotnull(primaryName#263) AND (primaryName#263 = Keanu Reeves))\n",
      "\n",
      "(5) Generate\n",
      "Input [5]: [nconst#262, primaryName#263, birthYear#264, deathYear#265, knownForTitles#267]\n",
      "Arguments: explode(split(knownForTitles#267, ,, -1)), [nconst#262, primaryName#263, birthYear#264, deathYear#265], false, [knownForTitles#349]\n",
      "\n",
      "(6) BroadcastExchange\n",
      "Input [5]: [nconst#262, primaryName#263, birthYear#264, deathYear#265, knownForTitles#349]\n",
      "Arguments: HashedRelationBroadcastMode(List(input[4, string, false]),false), [plan_id=543]\n",
      "\n",
      "(7) BroadcastHashJoin\n",
      "Left keys [1]: [tconst#274]\n",
      "Right keys [1]: [knownForTitles#349]\n",
      "Join type: Inner\n",
      "Join condition: None\n",
      "\n",
      "(8) AdaptiveSparkPlan\n",
      "Output [8]: [tconst#274, primaryTitle#276, startYear#279, nconst#262, primaryName#263, birthYear#264, deathYear#265, knownForTitles#349]\n",
      "Arguments: isFinalPlan=false\n",
      "\n",
      "\n"
     ]
    }
   ],
   "source": [
    "keanus_movies2.explain('formatted')"
   ]
  },
  {
   "cell_type": "code",
   "execution_count": 28,
   "id": "a4af7448-9b28-48b7-8b95-2018e49743ef",
   "metadata": {
    "tags": []
   },
   "outputs": [
    {
     "name": "stderr",
     "output_type": "stream",
     "text": [
      "[Stage 31:>                                                         (0 + 1) / 1]\r"
     ]
    },
    {
     "name": "stdout",
     "output_type": "stream",
     "text": [
      "+---------+-------------------+---------+---------+------------+---------+---------+--------------+\n",
      "|   tconst|       primaryTitle|startYear|   nconst| primaryName|birthYear|deathYear|knownForTitles|\n",
      "+---------+-------------------+---------+---------+------------+---------+---------+--------------+\n",
      "|tt0102685|        Point Break|     1991|nm0000206|Keanu Reeves|     1964|     null|     tt0102685|\n",
      "|tt0111257|              Speed|     1994|nm0000206|Keanu Reeves|     1964|     null|     tt0111257|\n",
      "|tt0133093|         The Matrix|     1999|nm0000206|Keanu Reeves|     1964|     null|     tt0133093|\n",
      "|tt0234215|The Matrix Reloaded|     2003|nm0000206|Keanu Reeves|     1964|     null|     tt0234215|\n",
      "+---------+-------------------+---------+---------+------------+---------+---------+--------------+\n",
      "\n"
     ]
    },
    {
     "name": "stderr",
     "output_type": "stream",
     "text": [
      "                                                                                \r"
     ]
    }
   ],
   "source": [
    "keanus_movies2.show()"
   ]
  },
  {
   "cell_type": "code",
   "execution_count": null,
   "id": "8787b1f2-dd08-41fa-8c49-4d531602c8b3",
   "metadata": {
    "tags": []
   },
   "outputs": [],
   "source": [
    "principals.filter(\"category = 'actor'\").show()"
   ]
  },
  {
   "cell_type": "code",
   "execution_count": null,
   "id": "82972bbb-f369-4337-a15c-1e2c184d8513",
   "metadata": {
    "tags": []
   },
   "outputs": [],
   "source": [
    "names.filter(\"primaryName = 'Christian Bale'\").show()"
   ]
  },
  {
   "cell_type": "code",
   "execution_count": null,
   "id": "54508ccb-76fc-4e74-bb72-866631298f2c",
   "metadata": {
    "tags": []
   },
   "outputs": [],
   "source": [
    "names.count()"
   ]
  },
  {
   "cell_type": "code",
   "execution_count": null,
   "id": "34d3d1e9-5c4c-4e32-b0bc-29682d47ea3b",
   "metadata": {},
   "outputs": [],
   "source": []
  }
 ],
 "metadata": {
  "kernelspec": {
   "display_name": "Python 3 (ipykernel)",
   "language": "python",
   "name": "python3"
  },
  "language_info": {
   "codemirror_mode": {
    "name": "ipython",
    "version": 3
   },
   "file_extension": ".py",
   "mimetype": "text/x-python",
   "name": "python",
   "nbconvert_exporter": "python",
   "pygments_lexer": "ipython3",
   "version": "3.11.4"
  }
 },
 "nbformat": 4,
 "nbformat_minor": 5
}
