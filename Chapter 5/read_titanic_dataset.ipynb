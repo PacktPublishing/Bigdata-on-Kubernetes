{
 "cells": [
  {
   "cell_type": "markdown",
   "id": "5cbf715d-173a-4943-9911-a76c39174d9b",
   "metadata": {},
   "source": [
    "# Getting Started with Spark\n",
    "\n",
    "### Reading the Titanic dataset"
   ]
  },
  {
   "cell_type": "code",
   "execution_count": 1,
   "id": "77ca4827-3c59-4fdd-9219-af767704c261",
   "metadata": {
    "tags": []
   },
   "outputs": [],
   "source": [
    "from pyspark.sql import SparkSession\n",
    "from pyspark.sql import functions as f"
   ]
  },
  {
   "cell_type": "code",
   "execution_count": 2,
   "id": "21e73197-acf1-4a4a-abd5-64f7be7e1071",
   "metadata": {
    "tags": []
   },
   "outputs": [
    {
     "name": "stderr",
     "output_type": "stream",
     "text": [
      "24/01/31 09:25:00 WARN Utils: Your hostname, Neylsons-MacBook-Air.local resolves to a loopback address: 127.0.0.1; using 192.168.3.25 instead (on interface en0)\n",
      "24/01/31 09:25:00 WARN Utils: Set SPARK_LOCAL_IP if you need to bind to another address\n",
      "Setting default log level to \"WARN\".\n",
      "To adjust logging level use sc.setLogLevel(newLevel). For SparkR, use setLogLevel(newLevel).\n",
      "24/01/31 09:25:00 WARN NativeCodeLoader: Unable to load native-hadoop library for your platform... using builtin-java classes where applicable\n"
     ]
    }
   ],
   "source": [
    "spark = SparkSession.builder.appName(\"TitanicData\").getOrCreate()"
   ]
  },
  {
   "cell_type": "code",
   "execution_count": 4,
   "id": "1bb33de4-bbb3-4319-9e1c-08be03d70dc8",
   "metadata": {
    "tags": []
   },
   "outputs": [],
   "source": [
    "spark.sparkContext.setLogLevel(\"ERROR\")"
   ]
  },
  {
   "cell_type": "code",
   "execution_count": 5,
   "id": "8853c051-4175-43c4-8890-849e0c657687",
   "metadata": {
    "tags": []
   },
   "outputs": [],
   "source": [
    "titanic = (\n",
    "    spark\n",
    "    .read\n",
    "    .options(header=True, inferSchema=True, delimiter=\";\")\n",
    "    .csv('data/titanic/titanic.csv')\n",
    ")"
   ]
  },
  {
   "cell_type": "code",
   "execution_count": 6,
   "id": "fcf71231-a475-46de-9d50-36ba5e33d97f",
   "metadata": {
    "tags": []
   },
   "outputs": [
    {
     "name": "stdout",
     "output_type": "stream",
     "text": [
      "root\n",
      " |-- PassengerId: integer (nullable = true)\n",
      " |-- Survived: integer (nullable = true)\n",
      " |-- Pclass: integer (nullable = true)\n",
      " |-- Name: string (nullable = true)\n",
      " |-- Sex: string (nullable = true)\n",
      " |-- Age: double (nullable = true)\n",
      " |-- SibSp: integer (nullable = true)\n",
      " |-- Parch: integer (nullable = true)\n",
      " |-- Ticket: string (nullable = true)\n",
      " |-- Fare: double (nullable = true)\n",
      " |-- Cabin: string (nullable = true)\n",
      " |-- Embarked: string (nullable = true)\n",
      "\n"
     ]
    }
   ],
   "source": [
    "titanic.printSchema()"
   ]
  },
  {
   "cell_type": "code",
   "execution_count": 7,
   "id": "dd97dd7e-79af-4685-b8f2-312a8fa7c7ca",
   "metadata": {
    "tags": []
   },
   "outputs": [],
   "source": [
    "filtered = (\n",
    "    titanic\n",
    "    .filter(titanic.Age > 21)\n",
    "    .filter(titanic.Sex == \"male\")\n",
    ")"
   ]
  },
  {
   "cell_type": "code",
   "execution_count": 8,
   "id": "3c08c1ec-c971-4ffb-ae5b-b2c4a9df7cb0",
   "metadata": {
    "tags": []
   },
   "outputs": [
    {
     "name": "stdout",
     "output_type": "stream",
     "text": [
      "+-----------+--------+------+--------------------+----+----+-----+-----+----------+-------+-----+--------+\n",
      "|PassengerId|Survived|Pclass|                Name| Sex| Age|SibSp|Parch|    Ticket|   Fare|Cabin|Embarked|\n",
      "+-----------+--------+------+--------------------+----+----+-----+-----+----------+-------+-----+--------+\n",
      "|          1|       0|     3|Braund, Mr. Owen ...|male|22.0|    1|    0| A/5 21171|   7.25| null|       S|\n",
      "|          5|       0|     3|Allen, Mr. Willia...|male|35.0|    0|    0|    373450|   8.05| null|       S|\n",
      "|          7|       0|     1|McCarthy, Mr. Tim...|male|54.0|    0|    0|     17463|51.8625|  E46|       S|\n",
      "|         14|       0|     3|Andersson, Mr. An...|male|39.0|    1|    5|    347082| 31.275| null|       S|\n",
      "|         21|       0|     2|Fynney, Mr. Joseph J|male|35.0|    0|    0|    239865|   26.0| null|       S|\n",
      "|         22|       1|     2|Beesley, Mr. Lawr...|male|34.0|    0|    0|    248698|   13.0|  D56|       S|\n",
      "|         24|       1|     1|Sloper, Mr. Willi...|male|28.0|    0|    0|    113788|   35.5|   A6|       S|\n",
      "|         31|       0|     1|Uruchurtu, Don. M...|male|40.0|    0|    0|  PC 17601|27.7208| null|       C|\n",
      "|         34|       0|     2|Wheadon, Mr. Edwa...|male|66.0|    0|    0|C.A. 24579|   10.5| null|       S|\n",
      "|         35|       0|     1|Meyer, Mr. Edgar ...|male|28.0|    1|    0|  PC 17604|82.1708| null|       C|\n",
      "|         36|       0|     1|Holverson, Mr. Al...|male|42.0|    1|    0|    113789|   52.0| null|       S|\n",
      "|         55|       0|     1|Ostby, Mr. Engelh...|male|65.0|    0|    1|    113509|61.9792|  B30|       C|\n",
      "|         58|       0|     3| Novel, Mr. Mansouer|male|28.5|    0|    0|      2697| 7.2292| null|       C|\n",
      "|         61|       0|     3|Sirayanian, Mr. O...|male|22.0|    0|    0|      2669| 7.2292| null|       C|\n",
      "|         63|       0|     1|Harris, Mr. Henry...|male|45.0|    1|    0|     36973| 83.475|  C83|       S|\n",
      "|         70|       0|     3|   Kink, Mr. Vincenz|male|26.0|    2|    0|    315151| 8.6625| null|       S|\n",
      "|         71|       0|     2|Jenkin, Mr. Steph...|male|32.0|    0|    0|C.A. 33111|   10.5| null|       S|\n",
      "|         74|       0|     3|Chronopoulos, Mr....|male|26.0|    1|    0|      2680|14.4542| null|       C|\n",
      "|         75|       1|     3|       Bing, Mr. Lee|male|32.0|    0|    0|      1601|56.4958| null|       S|\n",
      "|         76|       0|     3|Moen, Mr. Sigurd ...|male|25.0|    0|    0|    348123|   7.65|F G73|       S|\n",
      "+-----------+--------+------+--------------------+----+----+-----+-----+----------+-------+-----+--------+\n",
      "only showing top 20 rows\n",
      "\n"
     ]
    }
   ],
   "source": [
    "filtered.show()"
   ]
  },
  {
   "cell_type": "code",
   "execution_count": 9,
   "id": "7c625438-36a6-4d01-bfba-97167a94e42c",
   "metadata": {
    "tags": []
   },
   "outputs": [],
   "source": [
    "queryp = (\n",
    "    titanic\n",
    "    .filter(titanic.Sex == \"male\")\n",
    "    .filter(titanic.Age > 21)\n",
    "    .groupBy('Pclass')\n",
    "    .agg(f.sum('Survived').alias('Survivors'))\n",
    ")"
   ]
  },
  {
   "cell_type": "code",
   "execution_count": 10,
   "id": "2141a64a-6839-4026-81f0-b6e93030e49d",
   "metadata": {
    "tags": []
   },
   "outputs": [],
   "source": [
    "titanic.createOrReplaceTempView('titanic')\n",
    "\n",
    "querysql = spark.sql(\"\"\"\n",
    "    SELECT \n",
    "        Pclass,\n",
    "        sum(Survived) as Survivors\n",
    "    FROM titanic\n",
    "    WHERE\n",
    "        Sex = 'male'\n",
    "        AND Age > 21\n",
    "    GROUP BY Pclass\n",
    "\"\"\")"
   ]
  },
  {
   "cell_type": "code",
   "execution_count": 11,
   "id": "3bce9351-b68b-46b4-9517-6a6b249e5d1c",
   "metadata": {
    "tags": []
   },
   "outputs": [
    {
     "name": "stdout",
     "output_type": "stream",
     "text": [
      "== Physical Plan ==\n",
      "AdaptiveSparkPlan (7)\n",
      "+- HashAggregate (6)\n",
      "   +- Exchange (5)\n",
      "      +- HashAggregate (4)\n",
      "         +- Project (3)\n",
      "            +- Filter (2)\n",
      "               +- Scan csv  (1)\n",
      "\n",
      "\n",
      "(1) Scan csv \n",
      "Output [4]: [Survived#18, Pclass#19, Sex#21, Age#22]\n",
      "Batched: false\n",
      "Location: InMemoryFileIndex [file:/Users/neylsoncrepalde/Bigdata-on-Kubernetes/Chapter 5/data/titanic/titanic.csv]\n",
      "PushedFilters: [IsNotNull(Sex), IsNotNull(Age), EqualTo(Sex,male), GreaterThan(Age,21.0)]\n",
      "ReadSchema: struct<Survived:int,Pclass:int,Sex:string,Age:double>\n",
      "\n",
      "(2) Filter\n",
      "Input [4]: [Survived#18, Pclass#19, Sex#21, Age#22]\n",
      "Condition : (((isnotnull(Sex#21) AND isnotnull(Age#22)) AND (Sex#21 = male)) AND (Age#22 > 21.0))\n",
      "\n",
      "(3) Project\n",
      "Output [2]: [Survived#18, Pclass#19]\n",
      "Input [4]: [Survived#18, Pclass#19, Sex#21, Age#22]\n",
      "\n",
      "(4) HashAggregate\n",
      "Input [2]: [Survived#18, Pclass#19]\n",
      "Keys [1]: [Pclass#19]\n",
      "Functions [1]: [partial_sum(Survived#18)]\n",
      "Aggregate Attributes [1]: [sum#123L]\n",
      "Results [2]: [Pclass#19, sum#124L]\n",
      "\n",
      "(5) Exchange\n",
      "Input [2]: [Pclass#19, sum#124L]\n",
      "Arguments: hashpartitioning(Pclass#19, 200), ENSURE_REQUIREMENTS, [plan_id=52]\n",
      "\n",
      "(6) HashAggregate\n",
      "Input [2]: [Pclass#19, sum#124L]\n",
      "Keys [1]: [Pclass#19]\n",
      "Functions [1]: [sum(Survived#18)]\n",
      "Aggregate Attributes [1]: [sum(Survived#18)#115L]\n",
      "Results [2]: [Pclass#19, sum(Survived#18)#115L AS Survivors#116L]\n",
      "\n",
      "(7) AdaptiveSparkPlan\n",
      "Output [2]: [Pclass#19, Survivors#116L]\n",
      "Arguments: isFinalPlan=false\n",
      "\n",
      "\n"
     ]
    }
   ],
   "source": [
    "queryp.explain('formatted')"
   ]
  },
  {
   "cell_type": "code",
   "execution_count": 12,
   "id": "84d57668-ea67-4001-b5da-d7db721c12ba",
   "metadata": {
    "tags": []
   },
   "outputs": [
    {
     "name": "stdout",
     "output_type": "stream",
     "text": [
      "== Physical Plan ==\n",
      "AdaptiveSparkPlan (7)\n",
      "+- HashAggregate (6)\n",
      "   +- Exchange (5)\n",
      "      +- HashAggregate (4)\n",
      "         +- Project (3)\n",
      "            +- Filter (2)\n",
      "               +- Scan csv  (1)\n",
      "\n",
      "\n",
      "(1) Scan csv \n",
      "Output [4]: [Survived#18, Pclass#19, Sex#21, Age#22]\n",
      "Batched: false\n",
      "Location: InMemoryFileIndex [file:/Users/neylsoncrepalde/Bigdata-on-Kubernetes/Chapter 5/data/titanic/titanic.csv]\n",
      "PushedFilters: [IsNotNull(Sex), IsNotNull(Age), EqualTo(Sex,male), GreaterThan(Age,21.0)]\n",
      "ReadSchema: struct<Survived:int,Pclass:int,Sex:string,Age:double>\n",
      "\n",
      "(2) Filter\n",
      "Input [4]: [Survived#18, Pclass#19, Sex#21, Age#22]\n",
      "Condition : (((isnotnull(Sex#21) AND isnotnull(Age#22)) AND (Sex#21 = male)) AND (Age#22 > 21.0))\n",
      "\n",
      "(3) Project\n",
      "Output [2]: [Survived#18, Pclass#19]\n",
      "Input [4]: [Survived#18, Pclass#19, Sex#21, Age#22]\n",
      "\n",
      "(4) HashAggregate\n",
      "Input [2]: [Survived#18, Pclass#19]\n",
      "Keys [1]: [Pclass#19]\n",
      "Functions [1]: [partial_sum(Survived#18)]\n",
      "Aggregate Attributes [1]: [sum#125L]\n",
      "Results [2]: [Pclass#19, sum#126L]\n",
      "\n",
      "(5) Exchange\n",
      "Input [2]: [Pclass#19, sum#126L]\n",
      "Arguments: hashpartitioning(Pclass#19, 200), ENSURE_REQUIREMENTS, [plan_id=69]\n",
      "\n",
      "(6) HashAggregate\n",
      "Input [2]: [Pclass#19, sum#126L]\n",
      "Keys [1]: [Pclass#19]\n",
      "Functions [1]: [sum(Survived#18)]\n",
      "Aggregate Attributes [1]: [sum(Survived#18)#120L]\n",
      "Results [2]: [Pclass#19, sum(Survived#18)#120L AS Survivors#119L]\n",
      "\n",
      "(7) AdaptiveSparkPlan\n",
      "Output [2]: [Pclass#19, Survivors#119L]\n",
      "Arguments: isFinalPlan=false\n",
      "\n",
      "\n"
     ]
    }
   ],
   "source": [
    "querysql.explain('formatted')"
   ]
  },
  {
   "cell_type": "code",
   "execution_count": 13,
   "id": "efd27d0e-c8e0-497e-b595-4c69d55406a0",
   "metadata": {
    "tags": []
   },
   "outputs": [
    {
     "name": "stdout",
     "output_type": "stream",
     "text": [
      "+------+---------+\n",
      "|Pclass|Survivors|\n",
      "+------+---------+\n",
      "|     1|       36|\n",
      "|     3|       22|\n",
      "|     2|        5|\n",
      "+------+---------+\n",
      "\n"
     ]
    }
   ],
   "source": [
    "queryp.show()"
   ]
  },
  {
   "cell_type": "code",
   "execution_count": 14,
   "id": "e2ff8826-c681-48e3-a9fa-bc25bb6a51a8",
   "metadata": {
    "tags": []
   },
   "outputs": [
    {
     "name": "stdout",
     "output_type": "stream",
     "text": [
      "+------+---------+\n",
      "|Pclass|Survivors|\n",
      "+------+---------+\n",
      "|     1|       36|\n",
      "|     3|       22|\n",
      "|     2|        5|\n",
      "+------+---------+\n",
      "\n"
     ]
    }
   ],
   "source": [
    "querysql.show()"
   ]
  },
  {
   "cell_type": "code",
   "execution_count": 15,
   "id": "bc1227d7-cbd9-4a22-88a7-84c69f77991b",
   "metadata": {
    "tags": []
   },
   "outputs": [
    {
     "name": "stdout",
     "output_type": "stream",
     "text": [
      "+-----------+--------+------+--------------------+------+----+-----+-----+----------------+-------+-----+--------+\n",
      "|PassengerId|Survived|Pclass|                Name|   Sex| Age|SibSp|Parch|          Ticket|   Fare|Cabin|Embarked|\n",
      "+-----------+--------+------+--------------------+------+----+-----+-----+----------------+-------+-----+--------+\n",
      "|          1|       0|     3|Braund, Mr. Owen ...|  male|22.0|    1|    0|       A/5 21171|   7.25| null|       S|\n",
      "|          2|       1|     1|Cumings, Mrs. Joh...|female|38.0|    1|    0|        PC 17599|71.2833|  C85|       C|\n",
      "|          3|       1|     3|Heikkinen, Miss. ...|female|26.0|    0|    0|STON/O2. 3101282|  7.925| null|       S|\n",
      "|          4|       1|     1|Futrelle, Mrs. Ja...|female|35.0|    1|    0|          113803|   53.1| C123|       S|\n",
      "|          5|       0|     3|Allen, Mr. Willia...|  male|35.0|    0|    0|          373450|   8.05| null|       S|\n",
      "|          6|       0|     3|    Moran, Mr. James|  male|null|    0|    0|          330877| 8.4583| null|       Q|\n",
      "|          7|       0|     1|McCarthy, Mr. Tim...|  male|54.0|    0|    0|           17463|51.8625|  E46|       S|\n",
      "|          8|       0|     3|Palsson, Master. ...|  male| 2.0|    3|    1|          349909| 21.075| null|       S|\n",
      "|          9|       1|     3|Johnson, Mrs. Osc...|female|27.0|    0|    2|          347742|11.1333| null|       S|\n",
      "|         10|       1|     2|Nasser, Mrs. Nich...|female|14.0|    1|    0|          237736|30.0708| null|       C|\n",
      "|         11|       1|     3|Sandstrom, Miss. ...|female| 4.0|    1|    1|         PP 9549|   16.7|   G6|       S|\n",
      "|         12|       1|     1|Bonnell, Miss. El...|female|58.0|    0|    0|          113783|  26.55| C103|       S|\n",
      "|         13|       0|     3|Saundercock, Mr. ...|  male|20.0|    0|    0|       A/5. 2151|   8.05| null|       S|\n",
      "|         14|       0|     3|Andersson, Mr. An...|  male|39.0|    1|    5|          347082| 31.275| null|       S|\n",
      "|         15|       0|     3|Vestrom, Miss. Hu...|female|14.0|    0|    0|          350406| 7.8542| null|       S|\n",
      "|         16|       1|     2|Hewlett, Mrs. (Ma...|female|55.0|    0|    0|          248706|   16.0| null|       S|\n",
      "|         17|       0|     3|Rice, Master. Eugene|  male| 2.0|    4|    1|          382652| 29.125| null|       Q|\n",
      "|         18|       1|     2|Williams, Mr. Cha...|  male|null|    0|    0|          244373|   13.0| null|       S|\n",
      "|         19|       0|     3|Vander Planke, Mr...|female|31.0|    1|    0|          345763|   18.0| null|       S|\n",
      "|         20|       1|     3|Masselmani, Mrs. ...|female|null|    0|    0|            2649|  7.225| null|       C|\n",
      "+-----------+--------+------+--------------------+------+----+-----+-----+----------------+-------+-----+--------+\n",
      "only showing top 20 rows\n",
      "\n"
     ]
    }
   ],
   "source": [
    "titanic.show()"
   ]
  }
 ],
 "metadata": {
  "kernelspec": {
   "display_name": "Python 3 (ipykernel)",
   "language": "python",
   "name": "python3"
  },
  "language_info": {
   "codemirror_mode": {
    "name": "ipython",
    "version": 3
   },
   "file_extension": ".py",
   "mimetype": "text/x-python",
   "name": "python",
   "nbconvert_exporter": "python",
   "pygments_lexer": "ipython3",
   "version": "3.11.4"
  }
 },
 "nbformat": 4,
 "nbformat_minor": 5
}
